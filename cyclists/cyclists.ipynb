{
  "cells": [
    {
      "cell_type": "markdown",
      "metadata": {
        "id": "u-gqak6jnLi2"
      },
      "source": [
        "<h1 align=center style=\"line-height:200%;font-family:vazir;color:#0099cc\">\n",
        "<font face=\"vazir\" color=\"#0099cc\">\n",
        "دوچرخه‌سواران\n",
        "</font>\n",
        "</h1>\n",
        "<p dir=rtl style=\"direction: rtl;text-align: justify;line-height:200%;font-family:vazir;font-size:medium\">\n",
        "<font face=\"vazir\" size=3>\n",
        "دوچرخه‌سواران (🚴) خیلی روی دما حساس هستند. دمایی که دوچرخه‌سواران احساس می‌کنند معمولاً با سرعت باد و رطوبت هوا رابطه‌ی مستقیم دارد. \n",
        "در این تمرین مجموعه‌داده‌ای مرتبط با این موضوع در اختیارمان قرار گرفته و قصد داریم به تحلیل اکتشافی آن بپردازیم.\n",
        "</font>\n",
        "</p>\n"
      ]
    },
    {
      "cell_type": "markdown",
      "metadata": {
        "id": "4ble8cLWnLi4"
      },
      "source": [
        "<h2 align=right style=\"line-height:200%;font-family:vazir;color:#0099cc\">\n",
        "<font face=\"vazir\" color=\"#0099cc\">\n",
        "مجموعه‌داده\n",
        "</font>\n",
        "</h2>\n",
        "\n",
        "<p dir=rtl style=\"direction: rtl;text-align: justify;line-height:200%;font-family:vazir;font-size:medium\">\n",
        "<font face=\"vazir\" size=3>\n",
        "در فایل <code>bikes_borrowed.csv</code>، اطلاعات مربوط به دوچرخه‌های اجاره داده‌شده در یک شهر و اطلاعات مربوط به شرایط هوا در آن روز ذخیره شده است. ستون‌های این مجموعه‌داده در جدول زیر شرح داده شده است.\n",
        "با استفاده از روش‌هایی که در درسنامه یاد گرفته‌اید، به‌کمک کتابخانه‌ی <code>pandas</code> این مجموعه‌داده را از فایل بارگیری کرده و در دیتافریم <code>df</code> ذخیره کنید.\n",
        "</font>\n",
        "</p>\n",
        "\n",
        "\n",
        "<center>\n",
        "<div dir=rtl style=\"direction: rtl;line-height:200%;font-family:vazir;font-size:medium\">\n",
        "<font face=\"vazir\" size=3>\n",
        "\n",
        "| <b>شماره گروه</b> | <b>توضیحات</b> |\n",
        "| :---: | :---: |\n",
        "| <code>cnt</code> | تعداد دوچرخه‌های اجاره‌داده‌شده در روز |\n",
        "| <code>t1</code> | دمای واقعی اندازه‌گیری‌شده در آن روز |\n",
        "| <code>t2</code> | میانگین دمایی که دوچرخه‌سواران احساس کرده‌اند |\n",
        "| <code>humidity</code> | رطوبت هوا در آن روز |\n",
        "| <code>wind_speed</code> | سرعت باد در آن روز |\n",
        "|‌ <code>is_weekend</code> | آیا آن روز،‌ روز غیرکاری (آخر هفته) هست یا خیر |\n",
        "| <code>season</code> | چندمین فصل سال |\n",
        "| <code>cloud</code> | آیا هوا در آن روز ابری هست یا خیر  |\n",
        "\n",
        "</font>\n",
        "</div>\n",
        "</center>"
      ]
    },
    {
      "cell_type": "code",
      "execution_count": null,
      "metadata": {
        "id": "wch4VtDsnLi5"
      },
      "outputs": [],
      "source": [
        "import pandas as pd\n",
        "import numpy as np\n",
        "from numpy import nan as NA\n",
        "\n",
        "df = None # TODO\n",
        "df.head()"
      ]
    },
    {
      "cell_type": "markdown",
      "metadata": {
        "id": "lzANLP6QnLi6"
      },
      "source": [
        "<p dir=rtl style=\"direction: rtl;text-align: justify;line-height:200%;font-family:vazir;font-size:medium\">\n",
        "<font face=\"vazir\" size=3>\n",
        "همان‌طور که گفتیم، تابع\n",
        "<code>head</code>\n",
        "به‌طور پیش‌فرض، ۵ ردیف نخست دیتافریم را به ما نشان می‌دهد.\n",
        "</font>\n",
        "</p>"
      ]
    },
    {
      "cell_type": "markdown",
      "metadata": {
        "id": "QGuk2blfuZva"
      },
      "source": [
        "<h2 align=right style=\"line-height:200%;font-family:vazir;color:#0099cc\">\n",
        "<font face=\"vazir\" color=\"#0099cc\">\n",
        "مقادیر گم‌شده\n",
        "</font>\n",
        "</h2>\n",
        "\n",
        "\n",
        "<p dir=rtl style=\"direction: rtl;text-align: justify;line-height:200%;font-family:vazir;font-size:medium\">\n",
        "<font face=\"vazir\" size=3>\n",
        "همان‌طور که از ردیف‌های نخست دیتافریم مشخص است، این مجموعه‌داده شامل تعدادی مقادیر گم‌شده است. در این بخش سعی می‌کنیم به روش‌های مختلفی، این مقادیر گم‌شده را مدیریت کنیم.\n",
        "<br>\n",
        "ابتدا برسی کنید که چند درصد از مقادیر هر ستون گم‌شده است. اگر تعداد زیادی از مقادیر یک ستون گم‌شده باشند احتمالاً آن ستون اطلاعات زیادی برای‌مان فراهم نمی‌کند، بنابراین می‌توانیم آن را ‌به‌طور کلی حذف کنیم.\n",
        "</font>\n",
        "</p>\n"
      ]
    },
    {
      "cell_type": "code",
      "execution_count": null,
      "metadata": {
        "id": "YsLFjunFu5mC"
      },
      "outputs": [],
      "source": [
        "missing_percentages = None # TODO\n",
        "print(missing_percentages)"
      ]
    },
    {
      "cell_type": "markdown",
      "metadata": {
        "id": "49aps_hczBGu"
      },
      "source": [
        "<p dir=rtl style=\"direction: rtl;text-align: justify;line-height:200%;font-family:vazir;font-size:medium\">\n",
        "<font face=\"vazir\" size=3>\n",
        "حال آن ستونی را که تعداد مقادیر گم‌شده‌اش بسیار زیاد است\n",
        "(بیش از ۹۰ درصد)\n",
        "را حذف کنید.\n",
        "</font>\n",
        "</p>"
      ]
    },
    {
      "cell_type": "markdown",
      "metadata": {},
      "source": [
        "<details dir=\"rtl\" style=\"direction: rtl;text-align: justify;line-height:200%;font-family:vazir;font-size:medium\">\n",
        "<summary dir=\"rtl\" style=\"color:orange\"><b>راهنمایی: نحوه‌ی حذف یک ستون</b></summary>\n",
        "\n",
        "برای این کار می‌توانید همچون کد زیر از دستور\n",
        "<code>drop</code>\n",
        "استفاده کنید.\n",
        "\n",
        "<span dir=ltr style=\"direction:ltr;\">\n",
        "\n",
        "`df.drop(columns = list_of_column_names, inplace = True)`\n",
        "\n",
        "</span>\n",
        "</details>"
      ]
    },
    {
      "cell_type": "code",
      "execution_count": null,
      "metadata": {
        "id": "kbZsk2s5zjzO"
      },
      "outputs": [],
      "source": [
        "# TODO\n",
        "\n",
        "df.head()"
      ]
    },
    {
      "cell_type": "markdown",
      "metadata": {
        "id": "7bqtBFddnLi6"
      },
      "source": [
        "<p dir=rtl style=\"direction: rtl;text-align: justify;line-height:200%;font-family:vazir;font-size:medium\">\n",
        "<font face=\"vazir\" size=3>\n",
        "    به پارامتر <code>inplace = True</code> دقت کنید؛ وجود این پارامتر باعث می‌شود که تابع <code>drop</code>، به‌جای آن‌که یک کپی از دیتافریم تهیه کرده و بعد از اعمال تغییرات آن کپی را خروجی دهد، تغییرات را مستقیماً روی دیتافریم اصلی اعمال کند.\n",
        "برای درک بهتر این موضوع می‌توانید یک‌بار این پارامتر را حذف کرده و سپس مجدد <code dir=ltr>df.head()</code> را خروجی بگیرید و بررسی کنید که آیا نام ستون‌ها تغییر کرده است یا خیر؟\n",
        "</font>\n",
        "</p>\n"
      ]
    },
    {
      "cell_type": "markdown",
      "metadata": {
        "id": "sENXtyA80-Z-"
      },
      "source": [
        "<p dir=rtl style=\"direction: rtl;text-align: justify;line-height:200%;font-family:vazir;font-size:medium\">\n",
        "<font face=\"vazir\" size=3>\n",
        "حال با توجه به محاسبه‌ی درصد مقادیر گم‌شده در هر ستون می‌دانیم که ستون\n",
        "<code>humidity</code>\n",
        "هم تعداد قابل توجهی مقادیر گم‌شده دارد. برای حل این مشکل می‌خواهیم این مقادیر را با مقدار میانگین\n",
        "<code>humidity</code>\n",
        "جایگزین کنیم.\n",
        "<br>\n",
        "</font>\n",
        "</p>"
      ]
    },
    {
      "cell_type": "markdown",
      "metadata": {},
      "source": [
        "<details dir=\"rtl\" style=\"direction: rtl;text-align: justify;line-height:200%;font-family:vazir;font-size:medium\">\n",
        "<summary dir=\"rtl\" style=\"color:orange\"><b>راهنمایی: نحوه‌ی میانگین‌گیری و پر کردن مقادیر گم‌شده</b></summary>\n",
        "\n",
        "برای انجام این کار به کد زیر توجه کنید:\n",
        "\n",
        "<span dir=ltr style=\"direction:ltr;\">\n",
        "\n",
        "`mean = df['column_name'].mean()`\n",
        "<br>\n",
        "\n",
        "`df['column_name'].fillna(mean.astype('int64'), inplace = True)`\n",
        "\n",
        "</span>\n",
        "</details>"
      ]
    },
    {
      "cell_type": "code",
      "execution_count": null,
      "metadata": {
        "id": "-PiuTOaY0-x1"
      },
      "outputs": [],
      "source": [
        "mean = None # TODO\n",
        "# TODO"
      ]
    },
    {
      "cell_type": "markdown",
      "metadata": {
        "id": "T6OwONXC2n0q"
      },
      "source": [
        "<p dir=rtl style=\"direction: rtl;text-align: justify;line-height:200%;font-family:vazir;font-size:medium\">\n",
        "<font face=\"vazir\" size=3>\n",
        "در انتها با توجه به این موضوع که باقی ستون‌ها تعداد بسیار اندکی مقادیر گم‌شده دارند، تمامی نمونه‌ها/ردیف‌هایی را که همچنان مقدار گم‌شده دارند حذف می‌کنیم.\n",
        "</font>\n",
        "</p>"
      ]
    },
    {
      "cell_type": "markdown",
      "metadata": {},
      "source": [
        "<details dir=\"rtl\" style=\"direction: rtl;text-align: justify;line-height:200%;font-family:vazir;font-size:medium\">\n",
        "<summary dir=\"rtl\" style=\"color:orange\"><b>راهنمایی: نحوه‌ی حذف مقادیر گم‌شده</b></summary>\n",
        "\n",
        "برای انجام این کار به کد زیر توجه کنید:\n",
        "\n",
        "<span dir=ltr style=\"direction:ltr;\">\n",
        "\n",
        "`df.dropna(inplace = True)`\n",
        "\n",
        "</span>\n",
        "</details>"
      ]
    },
    {
      "cell_type": "code",
      "execution_count": null,
      "metadata": {
        "id": "aiRgupnp3IDh"
      },
      "outputs": [],
      "source": [
        "# TODO"
      ]
    },
    {
      "cell_type": "markdown",
      "metadata": {
        "id": "oDDqkYmj33Lx"
      },
      "source": [
        "<p dir=rtl style=\"direction: rtl;text-align: justify;line-height:200%;font-family:vazir;font-size:medium\">\n",
        "<font face=\"vazir\" size=3>\n",
        "    همان‌طور که می‌بینید نام ستون‌های <code>t1</code> و <code>t2</code> خیلی کلی است و بیانگر معنای مقدار آن‌ها نیست، به همین دلیل خوب است تا نام آن‌ها را تغییر دهیم.\n",
        "<br>\n",
        "    در سلول زیر، نام ستون <code>t1</code> را به <code>t_real</code> و نام ستون <code>t2</code> را به <code>t_feels_like</code> تغییر دهید.\n",
        "</font>\n",
        "</p>\n",
        "\n"
      ]
    },
    {
      "cell_type": "markdown",
      "metadata": {},
      "source": [
        "<details dir=\"rtl\" style=\"direction: rtl;text-align: justify;line-height:200%;font-family:vazir;font-size:medium\">\n",
        "<summary dir=\"rtl\" style=\"color:orange\"><b>راهنمایی: نحوه‌ی تغییر نام نمایه‌ها یا ستون‌ها</b></summary>\n",
        "\n",
        "برای تغییر نام نمایه‌ها یا ستون‌ها می‌توانیم از تابع <code>rename</code> استفاده کنیم:\n",
        "\n",
        "<span dir=ltr style=\"direction:ltr;\">\n",
        "\n",
        "`df.rename(columns={\"col1\": \"new_col1\", \"col2\": \"new_col2\"} , inplace = True)`\n",
        "\n",
        "</span>\n",
        "</details>"
      ]
    },
    {
      "cell_type": "code",
      "execution_count": null,
      "metadata": {
        "id": "j78mnKV_33h6"
      },
      "outputs": [],
      "source": [
        "# TODO\n",
        "df.head()"
      ]
    },
    {
      "cell_type": "markdown",
      "metadata": {
        "id": "XF5PPdsVnLi7"
      },
      "source": [
        "<h2 align=right style=\"line-height:200%;font-family:vazir;color:#0099cc\">\n",
        "<font face=\"vazir\" color=\"#0099cc\">\n",
        "اکتشاف در داده   </font>\n",
        "</h2>\n",
        "\n",
        "<p dir=rtl style=\"direction: rtl;text-align: justify;line-height:200%;font-family:vazir;font-size:medium\">\n",
        "<font face=\"vazir\" size=3>\n",
        "برای برسی داده ابتدا از\n",
        "<code>\n",
        "describe\n",
        "</code>\n",
        "استفاده می‌کنیم تا کلیتی از داده را متوجه شویم.\n",
        "</font>\n",
        "</p>"
      ]
    },
    {
      "cell_type": "code",
      "execution_count": null,
      "metadata": {
        "id": "APOQLdAh7BT3"
      },
      "outputs": [],
      "source": [
        "df.describe()"
      ]
    },
    {
      "cell_type": "markdown",
      "metadata": {
        "id": "xrjvmedP9akA"
      },
      "source": [
        "<p dir=rtl style=\"direction: rtl;text-align: justify;line-height:200%;font-family:vazir;font-size:medium\">\n",
        "<font face=\"vazir\" size=3>\n",
        "حال با استفاده از\n",
        "<code> plt.scatter </code>\n",
        "برسی میکنیم که ارتباط بین\n",
        "<code>t_real</code>\n",
        "و\n",
        "<code>t_feels_like</code>\n",
        "چگونه است.\n",
        "</font>\n",
        "</p>"
      ]
    },
    {
      "cell_type": "code",
      "execution_count": null,
      "metadata": {
        "id": "bCahOZje8Rlf"
      },
      "outputs": [],
      "source": [
        "from matplotlib  import pyplot as plt\n",
        "\n",
        "plt.scatter(x=None, y=None) # TODO\n",
        "plt.show()"
      ]
    },
    {
      "cell_type": "markdown",
      "metadata": {
        "id": "wHvHG0E79teR"
      },
      "source": [
        "<p dir=rtl style=\"direction: rtl;text-align: justify;line-height:200%;font-family:vazir;font-size:medium\">\n",
        "<font face=\"vazir\" size=3>\n",
        "همان‌طور که مشحص است و انتظارش را هم داشتیم، این دو مقدار در اکثر روزها بسیار به هم نزدیک هستند.\n",
        "<br>\n",
        "در مرحله‌ی بعد می‌خواهیم بدانیم ارتباط تعداد اجاره‌ی دوچرخه‌ها با دمای هوا چیست.\n",
        "برای این کار ابتدا نمونه‌ها را بر اساس\n",
        "<code>\n",
        "t_feels_like\n",
        "</code>\n",
        "گروه‌بندی کرده (دستور <code>groupby</code>) و میانگین تعداد اجاره‌ی دوچرخه در هر گروه را محاسبه کنید.\n",
        "</font>\n",
        "</p>"
      ]
    },
    {
      "cell_type": "code",
      "execution_count": null,
      "metadata": {
        "id": "rkznpYNw8cPF"
      },
      "outputs": [],
      "source": [
        "grouped =  None # TODO\n",
        "\n",
        "plt.plot(grouped)\n",
        "plt.show()"
      ]
    },
    {
      "cell_type": "markdown",
      "metadata": {
        "id": "FQS89JHoAp9f"
      },
      "source": [
        "<p dir=rtl style=\"direction: rtl;text-align: justify;line-height:200%;font-family:vazir;font-size:medium\">\n",
        "<font face=\"vazir\" size=3>\n",
        "🤔 اکنون می‌توانید به تحلیل نمودار تولیدشده بپردازید. به نظر شما چه نتیجه‌ای می‌توان از این نمودار گرفت؟ در چه روزهایی دوچرخه‌های بیشتری اجاره داده می‌شود؟ در صورت علاقه می‌توانید نظرات خود را به‌شکل دیدگاه عمومی در صفحه‌ی تمرین بنویسید.\n",
        "</font>\n",
        "</p>"
      ]
    },
    {
      "cell_type": "markdown",
      "metadata": {
        "id": "vTy8Q2aJKQio"
      },
      "source": [
        "<h2 align=right style=\"line-height:200%;font-family:vazir;color:#0099cc\">\n",
        "<font face=\"vazir\" color=\"#0099cc\">\n",
        "نحوه‌ی داوری\n",
        "</font>\n",
        "</h2>\n",
        "\n",
        "<p dir=rtl style=\"direction: rtl; text-align: justify; line-height:200%; font-family:vazir; font-size:medium\">\n",
        "<font face=\"vazir\" size=3>\n",
        "در سامانه‌ی داوری دو دیتافریم <code>df</code> و <code>grouped</code> راه‌حل شما مورد ارزیابی قرار می‌گیرد. بنابراین نیاز است مقادیر گم‌شده را به‌درستی و طبق خواسته‌ی سوال مدیریت کرده باشید و همچنین رابطه‌ی تعداد دوچرخه‌های اجاره‌ای و دمای هوا را به‌درستی محاسبه کرده باشید.\n",
        "</font>\n",
        "</p>"
      ]
    },
    {
      "cell_type": "markdown",
      "metadata": {
        "id": "xy8TS0J2KQio"
      },
      "source": [
        "<h2 align=right style=\"line-height:200%;font-family:vazir;color:#0099cc\">\n",
        "<font face=\"vazir\" color=\"#0099cc\">\n",
        "<b>سلول جواب‌ساز</b>\n",
        "</font>\n",
        "</h2>\n",
        "\n",
        "<p dir=rtl style=\"direction: rtl; text-align: justify; line-height:200%; font-family:vazir; font-size:medium\">\n",
        "<font face=\"vazir\" size=3>\n",
        "    برای ساخته‌شدن فایل <code>result.zip</code> سلول زیر را اجرا کنید. توجه داشته باشید که پیش از اجرای سلول زیر تغییرات اعمال شده در نت‌بوک را ذخیره کرده باشید (<code>ctrl+s</code>) تا در صورت نیاز به پشتیبانی امکان بررسی کد شما وجود داشته باشد.</font>\n",
        "</p>"
      ]
    },
    {
      "cell_type": "code",
      "execution_count": null,
      "metadata": {
        "id": "YVslEG27Apr4"
      },
      "outputs": [],
      "source": [
        "import zlib\n",
        "import zipfile\n",
        "\n",
        "df.to_csv('bikes.csv', index=True)\n",
        "grouped.to_csv(\"cnt_mean_grouped.csv\", index=True)\n",
        "\n",
        "def compress(file_names):\n",
        "    print(\"File Paths:\")\n",
        "    print(file_names)\n",
        "    compression = zipfile.ZIP_DEFLATED\n",
        "    with zipfile.ZipFile(\"result.zip\", mode=\"w\") as zf:\n",
        "        for file_name in file_names:\n",
        "            zf.write('./' + file_name, file_name, compress_type=compression)\n",
        "\n",
        "file_names = [\"cyclists.ipynb\", \"bikes.csv\", \"cnt_mean_grouped.csv\"]\n",
        "compress(file_names)"
      ]
    }
  ],
  "metadata": {
    "colab": {
      "provenance": []
    },
    "kernelspec": {
      "display_name": "Python 3",
      "language": "python",
      "name": "python3"
    },
    "language_info": {
      "codemirror_mode": {
        "name": "ipython",
        "version": 3
      },
      "file_extension": ".py",
      "mimetype": "text/x-python",
      "name": "python",
      "nbconvert_exporter": "python",
      "pygments_lexer": "ipython3",
      "version": "3.11.5"
    },
    "vscode": {
      "interpreter": {
        "hash": "44e7e1b8fa2096bd5707ed7fd18b1724a2db25f4c565a7673f8b6e7bfc49d25d"
      }
    }
  },
  "nbformat": 4,
  "nbformat_minor": 0
}
